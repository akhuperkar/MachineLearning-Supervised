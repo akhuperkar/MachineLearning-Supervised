{
 "cells": [
  {
   "cell_type": "markdown",
   "metadata": {},
   "source": [
    "## Decision Tree (C5.0) To Predict Risky Bank Loans\n",
    "\n",
    "##### Step-1: Import data\n",
    "The analysis is carried out using 'credit.csv' dataset available at the UCI Machine Learning Data Repository (http://archive.ics.uci.edu/ml). The dataset represents loans obtained from a credit agency in Germany."
   ]
  },
  {
   "cell_type": "code",
   "execution_count": 9,
   "metadata": {
    "collapsed": false
   },
   "outputs": [],
   "source": [
    "credit <- read.csv(file.choose(), header = TRUE)\n",
    "#str(credit)\n",
    "credit$default <- as.factor(credit$default)"
   ]
  },
  {
   "cell_type": "markdown",
   "metadata": {},
   "source": [
    "##### Step-2: Explore data"
   ]
  },
  {
   "cell_type": "code",
   "execution_count": 15,
   "metadata": {
    "collapsed": false
   },
   "outputs": [
    {
     "data": {
      "text/html": [
       "<table>\n",
       "<thead><tr><th></th><th scope=col>checking_balance</th><th scope=col>months_loan_duration</th><th scope=col>credit_history</th><th scope=col>purpose</th><th scope=col>amount</th><th scope=col>savings_balance</th><th scope=col>employment_length</th><th scope=col>installment_rate</th><th scope=col>personal_status</th><th scope=col>other_debtors</th><th scope=col>ellip.h</th><th scope=col>property</th><th scope=col>age</th><th scope=col>installment_plan</th><th scope=col>housing</th><th scope=col>existing_credits</th><th scope=col>job</th><th scope=col>dependents</th><th scope=col>telephone</th><th scope=col>foreign_worker</th><th scope=col>default</th></tr></thead>\n",
       "<tbody>\n",
       "\t<tr><th scope=row>1</th><td>unknown</td><td>6</td><td>critical</td><td>car (new)</td><td>250</td><td>> 1000 DM</td><td>1 - 4 yrs</td><td>2</td><td>female</td><td>none</td><td><e2><8b><af></td><td>real estate</td><td>41</td><td>bank</td><td>own</td><td>2</td><td>unskilled resident</td><td>1</td><td>none</td><td>yes</td><td>1</td></tr>\n",
       "\t<tr><th scope=row>2</th><td>1 - 200 DM</td><td>9</td><td>repaid</td><td>car (new)</td><td>276</td><td>< 100 DM</td><td>1 - 4 yrs</td><td>4</td><td>married male</td><td>none</td><td><e2><8b><af></td><td>real estate</td><td>22</td><td>none</td><td>rent</td><td>1</td><td>unskilled resident</td><td>1</td><td>none</td><td>yes</td><td>1</td></tr>\n",
       "\t<tr><th scope=row>3</th><td>< 0 DM</td><td>6</td><td>critical</td><td>radio/tv</td><td>338</td><td>501 - 1000 DM</td><td>> 7 yrs</td><td>4</td><td>single male</td><td>none</td><td><e2><8b><af></td><td>other</td><td>52</td><td>none</td><td>own</td><td>2</td><td>skilled employee</td><td>1</td><td>none</td><td>yes</td><td>1</td></tr>\n",
       "\t<tr><th scope=row>4</th><td>< 0 DM</td><td>12</td><td>fully repaid this bank</td><td>retraining</td><td>339</td><td>< 100 DM</td><td>> 7 yrs</td><td>4</td><td>married male</td><td>none</td><td><e2><8b><af></td><td>other</td><td>45</td><td>bank</td><td>own</td><td>1</td><td>unskilled resident</td><td>1</td><td>none</td><td>yes</td><td>1</td></tr>\n",
       "\t<tr><th scope=row>5</th><td>< 0 DM</td><td>6</td><td>repaid</td><td>domestic appliances</td><td>343</td><td>< 100 DM</td><td>0 - 1 yrs</td><td>4</td><td>female</td><td>none</td><td><e2><8b><af></td><td>real estate</td><td>27</td><td>none</td><td>own</td><td>1</td><td>skilled employee</td><td>1</td><td>none</td><td>yes</td><td>1</td></tr>\n",
       "\t<tr><th scope=row>6</th><td>unknown</td><td>6</td><td>critical</td><td>car (new)</td><td>362</td><td>101 - 500 DM</td><td>1 - 4 yrs</td><td>4</td><td>female</td><td>none</td><td><e2><8b><af></td><td>other</td><td>52</td><td>none</td><td>own</td><td>2</td><td>unskilled resident</td><td>1</td><td>none</td><td>yes</td><td>1</td></tr>\n",
       "</tbody>\n",
       "</table>\n"
      ],
      "text/latex": [
       "\\begin{tabular}{r|lllllllllllllllllllll}\n",
       "  & checking_balance & months_loan_duration & credit_history & purpose & amount & savings_balance & employment_length & installment_rate & personal_status & other_debtors & ellip.h & property & age & installment_plan & housing & existing_credits & job & dependents & telephone & foreign_worker & default\\\\\n",
       "\\hline\n",
       "\t1 & unknown & 6 & critical & car (new) & 250 & > 1000 DM & 1 - 4 yrs & 2 & female & none & <e2><8b><af> & real estate & 41 & bank & own & 2 & unskilled resident & 1 & none & yes & 1\\\\\n",
       "\t2 & 1 - 200 DM & 9 & repaid & car (new) & 276 & < 100 DM & 1 - 4 yrs & 4 & married male & none & <e2><8b><af> & real estate & 22 & none & rent & 1 & unskilled resident & 1 & none & yes & 1\\\\\n",
       "\t3 & < 0 DM & 6 & critical & radio/tv & 338 & 501 - 1000 DM & > 7 yrs & 4 & single male & none & <e2><8b><af> & other & 52 & none & own & 2 & skilled employee & 1 & none & yes & 1\\\\\n",
       "\t4 & < 0 DM & 12 & fully repaid this bank & retraining & 339 & < 100 DM & > 7 yrs & 4 & married male & none & <e2><8b><af> & other & 45 & bank & own & 1 & unskilled resident & 1 & none & yes & 1\\\\\n",
       "\t5 & < 0 DM & 6 & repaid & domestic appliances & 343 & < 100 DM & 0 - 1 yrs & 4 & female & none & <e2><8b><af> & real estate & 27 & none & own & 1 & skilled employee & 1 & none & yes & 1\\\\\n",
       "\t6 & unknown & 6 & critical & car (new) & 362 & 101 - 500 DM & 1 - 4 yrs & 4 & female & none & <e2><8b><af> & other & 52 & none & own & 2 & unskilled resident & 1 & none & yes & 1\\\\\n",
       "\\end{tabular}\n"
      ],
      "text/plain": [
       "  checking_balance months_loan_duration         credit_history\n",
       "1          unknown                    6               critical\n",
       "2       1 - 200 DM                    9                 repaid\n",
       "3           < 0 DM                    6               critical\n",
       "4           < 0 DM                   12 fully repaid this bank\n",
       "5           < 0 DM                    6                 repaid\n",
       "6          unknown                    6               critical\n",
       "              purpose amount savings_balance employment_length installment_rate\n",
       "1           car (new)    250       > 1000 DM         1 - 4 yrs                2\n",
       "2           car (new)    276        < 100 DM         1 - 4 yrs                4\n",
       "3            radio/tv    338   501 - 1000 DM           > 7 yrs                4\n",
       "4          retraining    339        < 100 DM           > 7 yrs                4\n",
       "5 domestic appliances    343        < 100 DM         0 - 1 yrs                4\n",
       "6           car (new)    362    101 - 500 DM         1 - 4 yrs                4\n",
       "  personal_status other_debtors residence_history    property age\n",
       "1          female          none                 2 real estate  41\n",
       "2    married male          none                 4 real estate  22\n",
       "3     single male          none                 4       other  52\n",
       "4    married male          none                 1       other  45\n",
       "5          female          none                 1 real estate  27\n",
       "6          female          none                 4       other  52\n",
       "  installment_plan housing existing_credits                job dependents\n",
       "1             bank     own                2 unskilled resident          1\n",
       "2             none    rent                1 unskilled resident          1\n",
       "3             none     own                2   skilled employee          1\n",
       "4             bank     own                1 unskilled resident          1\n",
       "5             none     own                1   skilled employee          1\n",
       "6             none     own                2 unskilled resident          1\n",
       "  telephone foreign_worker default\n",
       "1      none            yes       1\n",
       "2      none            yes       1\n",
       "3      none            yes       1\n",
       "4      none            yes       1\n",
       "5      none            yes       1\n",
       "6      none            yes       1"
      ]
     },
     "execution_count": 15,
     "metadata": {},
     "output_type": "execute_result"
    }
   ],
   "source": [
    "head(credit)"
   ]
  },
  {
   "cell_type": "markdown",
   "metadata": {},
   "source": [
    "The 'default' variable is recorded as 1 for non-default and 2 for default of loan. The data suggests 30 percent of the loans went into default."
   ]
  },
  {
   "cell_type": "code",
   "execution_count": 75,
   "metadata": {
    "collapsed": false
   },
   "outputs": [
    {
     "data": {
      "text/html": [
       "<table>\n",
       "<thead><tr><th scope=col>1</th><th scope=col>2</th></tr></thead>\n",
       "<tbody>\n",
       "\t<tr><td>700</td><td>300</td></tr>\n",
       "\t<tr><td>0.7</td><td>0.3</td></tr>\n",
       "</tbody>\n",
       "</table>\n"
      ],
      "text/latex": [
       "\\begin{tabular}{ll}\n",
       " 1 & 2\\\\\n",
       "\\hline\n",
       "\t 700 & 300\\\\\n",
       "\t 0.7 & 0.3\\\\\n",
       "\\end{tabular}\n"
      ],
      "text/markdown": [
       "1. 700\n",
       "2. 0.7\n",
       "3. 300\n",
       "4. 0.3\n",
       "\n",
       "\n"
      ],
      "text/plain": [
       "         1     2\n",
       "[1,] 700.0 300.0\n",
       "[2,]   0.7   0.3"
      ]
     },
     "execution_count": 75,
     "metadata": {},
     "output_type": "execute_result"
    }
   ],
   "source": [
    "rbind(table(credit$default), prop.table(table(credit$default)))"
   ]
  },
  {
   "cell_type": "markdown",
   "metadata": {},
   "source": [
    "##### Step-3: Prepare data \n",
    "Use 80% data as training dataset and the remaining as test dataset. Randomize before splitting to ensure consistent distribution of both training and test datasets.  "
   ]
  },
  {
   "cell_type": "code",
   "execution_count": 39,
   "metadata": {
    "collapsed": false
   },
   "outputs": [
    {
     "data": {
      "text/html": [
       "<table>\n",
       "<thead><tr><th scope=col>1</th><th scope=col>2</th></tr></thead>\n",
       "<tbody>\n",
       "\t<tr><td>0.71375</td><td>0.28625</td></tr>\n",
       "\t<tr><td>0.645</td><td>0.355</td></tr>\n",
       "</tbody>\n",
       "</table>\n"
      ],
      "text/latex": [
       "\\begin{tabular}{ll}\n",
       " 1 & 2\\\\\n",
       "\\hline\n",
       "\t 0.71375 & 0.28625\\\\\n",
       "\t 0.645 & 0.355\\\\\n",
       "\\end{tabular}\n"
      ],
      "text/markdown": [
       "1. 0.71375\n",
       "2. 0.645\n",
       "3. 0.28625\n",
       "4. 0.355\n",
       "\n",
       "\n"
      ],
      "text/plain": [
       "           1       2\n",
       "[1,] 0.71375 0.28625\n",
       "[2,] 0.64500 0.35500"
      ]
     },
     "execution_count": 39,
     "metadata": {},
     "output_type": "execute_result"
    }
   ],
   "source": [
    "set.seed(100)\n",
    "g <- runif(nrow(credit))\n",
    "creditr <- credit[order(g),]\n",
    "credittrain <- creditr[1:800, ]\n",
    "credittest <- creditr[801:1000,]\n",
    "rbind(prop.table(table(credittrain$default)), prop.table(table(credittest$default)))"
   ]
  },
  {
   "cell_type": "markdown",
   "metadata": {},
   "source": [
    "##### Step-4: Train the model"
   ]
  },
  {
   "cell_type": "code",
   "execution_count": 76,
   "metadata": {
    "collapsed": false
   },
   "outputs": [
    {
     "data": {
      "text/plain": [
       "\n",
       "Call:\n",
       "C5.0.default(x = credittrain[, -21], y = credittrain$default)\n",
       "\n",
       "Classification Tree\n",
       "Number of samples: 800 \n",
       "Number of predictors: 20 \n",
       "\n",
       "Tree size: 59 \n",
       "\n",
       "Non-standard options: attempt to group attributes\n"
      ]
     },
     "execution_count": 76,
     "metadata": {},
     "output_type": "execute_result"
    }
   ],
   "source": [
    "#install.packages(\"C50\")\n",
    "library(C50)                # library C50 contains decision C5.0 algorithm\n",
    "m1 <- C50::C5.0(credittrain[,-21], credittrain$default)\n",
    "m1"
   ]
  },
  {
   "cell_type": "markdown",
   "metadata": {},
   "source": [
    "** Decision tree model parameters **"
   ]
  },
  {
   "cell_type": "code",
   "execution_count": 46,
   "metadata": {
    "collapsed": false
   },
   "outputs": [
    {
     "data": {
      "text/plain": [
       "\n",
       "Call:\n",
       "C5.0.default(x = credittrain[, -21], y = credittrain$default)\n",
       "\n",
       "\n",
       "C5.0 [Release 2.07 GPL Edition]  \tTue Jan 26 16:01:13 2016\n",
       "-------------------------------\n",
       "\n",
       "Class specified by attribute `outcome'\n",
       "\n",
       "Read 800 cases (21 attributes) from undefined.data\n",
       "\n",
       "Decision tree:\n",
       "\n",
       "checking_balance in {> 200 DM,unknown}: 1 (373/46)\n",
       "checking_balance in {< 0 DM,1 - 200 DM}:\n",
       ":...credit_history in {fully repaid,fully repaid this bank}:\n",
       "    :...housing = rent: 2 (13)\n",
       "    :   housing in {for free,own}:\n",
       "    :   :...other_debtors in {co-applicant,guarantor}: 1 (3)\n",
       "    :       other_debtors = none:\n",
       "    :       :...housing = for free: 2 (10/1)\n",
       "    :           housing = own:\n",
       "    :           :...purpose in {car (new),car (used),education,others,\n",
       "    :               :           repairs}: 2 (10/1)\n",
       "    :               purpose in {domestic appliances,radio/tv,\n",
       "    :               :           retraining}: 1 (5/1)\n",
       "    :               purpose = business:\n",
       "    :               :...job in {mangement self-employed,skilled employee,\n",
       "    :               :   :       unemployed non-resident}: 1 (5/1)\n",
       "    :               :   job = unskilled resident: 2 (1)\n",
       "    :               purpose = furniture:\n",
       "    :               :...telephone = none: 2 (2)\n",
       "    :                   telephone = yes: 1 (4)\n",
       "    credit_history in {critical,delayed,repaid}:\n",
       "    :...months_loan_duration > 22:\n",
       "        :...savings_balance = > 1000 DM: 1 (3)\n",
       "        :   savings_balance = 501 - 1000 DM: 2 (3)\n",
       "        :   savings_balance = 101 - 500 DM:\n",
       "        :   :...employment_length in {> 7 yrs,4 - 7 yrs,\n",
       "        :   :   :                     unemployed}: 1 (13/3)\n",
       "        :   :   employment_length in {0 - 1 yrs,1 - 4 yrs}: 2 (10)\n",
       "        :   savings_balance = unknown:\n",
       "        :   :...checking_balance = < 0 DM: 2 (9/1)\n",
       "        :   :   checking_balance = 1 - 200 DM: 1 (13)\n",
       "        :   savings_balance = < 100 DM:\n",
       "        :   :...months_loan_duration > 47: 2 (16/2)\n",
       "        :       months_loan_duration <= 47:\n",
       "        :       :...installment_rate > 2: 2 (57/22)\n",
       "        :           installment_rate <= 2:\n",
       "        :           :...housing in {for free,rent}: 1 (10/1)\n",
       "        :               housing = own:\n",
       "        :               :...property = unknown/none: 2 (1)\n",
       "        :                   property = building society savings:\n",
       "        :                   :...other_debtors = guarantor: 1 (1)\n",
       "        :                   :   other_debtors in {co-applicant,\n",
       "        :                   :                     none}: 2 (5/1)\n",
       "        :                   property = other:\n",
       "        :                   :...installment_plan = bank: 2 (2)\n",
       "        :                   :   installment_plan in {none,stores}: 1 (7)\n",
       "        :                   property = real estate:\n",
       "        :                   :...months_loan_duration <= 39: 2 (2)\n",
       "        :                       months_loan_duration > 39: 1 (2)\n",
       "        months_loan_duration <= 22:\n",
       "        :...employment_length = 4 - 7 yrs: 1 (37/3)\n",
       "            employment_length in {> 7 yrs,0 - 1 yrs,1 - 4 yrs,unemployed}:\n",
       "            :...purpose in {business,car (used),furniture,others,\n",
       "                :           retraining}: 1 (64/16)\n",
       "                purpose = domestic appliances: 2 (3/1)\n",
       "                purpose = education:\n",
       "                :...savings_balance in {< 100 DM,> 1000 DM,101 - 500 DM,\n",
       "                :   :                   501 - 1000 DM}: 2 (6)\n",
       "                :   savings_balance = unknown: 1 (3)\n",
       "                purpose = repairs:\n",
       "                :...installment_plan = bank: 1 (0)\n",
       "                :   installment_plan = stores: 2 (1)\n",
       "                :   installment_plan = none:\n",
       "                :   :...housing = for free: 2 (1)\n",
       "                :       housing in {own,rent}: 1 (7/1)\n",
       "                purpose = radio/tv:\n",
       "                :...installment_plan = stores: 2 (2)\n",
       "                :   installment_plan in {bank,none}:\n",
       "                :   :...other_debtors in {co-applicant,guarantor}: 1 (12)\n",
       "                :       other_debtors = none:\n",
       "                :       :...months_loan_duration <= 10: 1 (13/1)\n",
       "                :           months_loan_duration > 10:\n",
       "                :           :...existing_credits > 1: 2 (2)\n",
       "                :               existing_credits <= 1: [S1]\n",
       "                purpose = car (new):\n",
       "                :...other_debtors = co-applicant: 2 (2)\n",
       "                    other_debtors = guarantor:\n",
       "                    :...credit_history in {critical,delayed}: 2 (3)\n",
       "                    :   credit_history = repaid: 1 (1)\n",
       "                    other_debtors = none:\n",
       "                    :...existing_credits > 1:\n",
       "                        :...telephone = none: 1 (14)\n",
       "                        :   telephone = yes:\n",
       "                        :   :...housing in {for free,own}: 1 (4)\n",
       "                        :       housing = rent: 2 (2)\n",
       "                        existing_credits <= 1:\n",
       "                        :...installment_plan in {bank,stores}: 2 (3)\n",
       "                            installment_plan = none:\n",
       "                            :...dependents > 1: 1 (4)\n",
       "                                dependents <= 1: [S2]\n",
       "\n",
       "SubTree [S1]\n",
       "\n",
       "personal_status in {divorced male,female}: 1 (3)\n",
       "personal_status = married male:\n",
       ":...age <= 34: 2 (6/1)\n",
       ":   age > 34: 1 (2)\n",
       "personal_status = single male:\n",
       ":...age <= 30: 1 (2)\n",
       "    age > 30: 2 (3)\n",
       "\n",
       "SubTree [S2]\n",
       "\n",
       "property = building society savings: 2 (6/1)\n",
       "property = unknown/none: 1 (2/1)\n",
       "property = other:\n",
       ":...credit_history = critical: 1 (1)\n",
       ":   credit_history in {delayed,repaid}: 2 (3)\n",
       "property = real estate:\n",
       ":...checking_balance = 1 - 200 DM: 1 (4)\n",
       "    checking_balance = < 0 DM:\n",
       "    :...residence_history <= 2: 2 (2)\n",
       "        residence_history > 2: 1 (2)\n",
       "\n",
       "\n",
       "Evaluation on training data (800 cases):\n",
       "\n",
       "\t    Decision Tree   \n",
       "\t  ----------------  \n",
       "\t  Size      Errors  \n",
       "\n",
       "\t    58  105(13.1%)   <<\n",
       "\n",
       "\n",
       "\t   (a)   (b)    <-classified as\n",
       "\t  ----  ----\n",
       "\t   540    31    (a): class 1\n",
       "\t    74   155    (b): class 2\n",
       "\n",
       "\n",
       "\tAttribute usage:\n",
       "\n",
       "\t100.00%\tchecking_balance\n",
       "\t 53.38%\tcredit_history\n",
       "\t 46.75%\tmonths_loan_duration\n",
       "\t 30.38%\temployment_length\n",
       "\t 26.25%\tpurpose\n",
       "\t 20.38%\tsavings_balance\n",
       "\t 17.75%\tother_debtors\n",
       "\t 12.13%\thousing\n",
       "\t 11.25%\tinstallment_plan\n",
       "\t 10.88%\tinstallment_rate\n",
       "\t  8.13%\texisting_credits\n",
       "\t  5.00%\tproperty\n",
       "\t  3.25%\ttelephone\n",
       "\t  3.00%\tdependents\n",
       "\t  2.00%\tpersonal_status\n",
       "\t  1.63%\tage\n",
       "\t  0.75%\tjob\n",
       "\t  0.50%\tresidence_history\n",
       "\n",
       "\n",
       "Time: 0.0 secs\n"
      ]
     },
     "execution_count": 46,
     "metadata": {},
     "output_type": "execute_result"
    }
   ],
   "source": [
    "summary(m1)"
   ]
  },
  {
   "cell_type": "markdown",
   "metadata": {},
   "source": [
    "##### Step-5: Evaluate the model performance on test data"
   ]
  },
  {
   "cell_type": "code",
   "execution_count": 60,
   "metadata": {
    "collapsed": false
   },
   "outputs": [
    {
     "data": {
      "text/plain": [
       "              Predicted default\n",
       "Actual default   1   2\n",
       "             1 110  19\n",
       "             2  39  32"
      ]
     },
     "execution_count": 60,
     "metadata": {},
     "output_type": "execute_result"
    }
   ],
   "source": [
    "p1 <- predict(m1, credittest)\n",
    "table(credittest$default, p1, dnn = c(\"Actual default\", \"Predicted default\"))"
   ]
  },
  {
   "cell_type": "code",
   "execution_count": 61,
   "metadata": {
    "collapsed": false
   },
   "outputs": [
    {
     "name": "stdout",
     "output_type": "stream",
     "text": [
      "\n",
      " \n",
      "   Cell Contents\n",
      "|-------------------------|\n",
      "|                       N |\n",
      "|         N / Table Total |\n",
      "|-------------------------|\n",
      "\n",
      " \n",
      "Total Observations in Table:  200 \n",
      "\n",
      " \n",
      "               | predicted default \n",
      "actual default |         1 |         2 | Row Total | \n",
      "---------------|-----------|-----------|-----------|\n",
      "             1 |       110 |        19 |       129 | \n",
      "               |     0.550 |     0.095 |           | \n",
      "---------------|-----------|-----------|-----------|\n",
      "             2 |        39 |        32 |        71 | \n",
      "               |     0.195 |     0.160 |           | \n",
      "---------------|-----------|-----------|-----------|\n",
      "  Column Total |       149 |        51 |       200 | \n",
      "---------------|-----------|-----------|-----------|\n",
      "\n",
      " \n"
     ]
    }
   ],
   "source": [
    "library(gmodels)\n",
    "CrossTable(credittest$default, p1, prop.chisq = FALSE, prop.c = FALSE, prop.r = FALSE, \n",
    "           dnn = c('actual default', 'predicted default'))"
   ]
  },
  {
   "cell_type": "markdown",
   "metadata": {},
   "source": [
    "Interpretations:\n",
    "* Model accurately predicted 71% events\n",
    "* 85% of non-defaults are correctly predicted\n",
    "* 55% of defaults are correctly predicted by the model"
   ]
  },
  {
   "cell_type": "markdown",
   "metadata": {},
   "source": [
    "##### Step-6: Improving model performance"
   ]
  },
  {
   "cell_type": "markdown",
   "metadata": {},
   "source": [
    "** Using adaboost **"
   ]
  },
  {
   "cell_type": "code",
   "execution_count": 77,
   "metadata": {
    "collapsed": false
   },
   "outputs": [
    {
     "data": {
      "text/plain": [
       "              predicted default\n",
       "actual default     1     2\n",
       "             1 0.570 0.075\n",
       "             2 0.175 0.180"
      ]
     },
     "execution_count": 77,
     "metadata": {},
     "output_type": "execute_result"
    }
   ],
   "source": [
    "m2 <- C50::C5.0(credittrain[,-21], credittrain$default, trials = 10)\n",
    "p2 <- predict(m2, credittest)\n",
    "prop.table(table(credittest$default, p2, dnn = c('actual default', 'predicted default')))"
   ]
  },
  {
   "cell_type": "markdown",
   "metadata": {},
   "source": [
    "Interpretations:\n",
    "* Overall model accuracy improved to 75%\n",
    "* True positive rate improved to 88% of non-defaults being correctly predicted\n",
    "* True negative rate slipped to 51% of defaults beingcorrectly predicted by the model"
   ]
  },
  {
   "cell_type": "markdown",
   "metadata": {},
   "source": [
    "** Using random forest **"
   ]
  },
  {
   "cell_type": "code",
   "execution_count": 78,
   "metadata": {
    "collapsed": false
   },
   "outputs": [
    {
     "data": {
      "text/plain": [
       "              predicted default\n",
       "actual default     1     2\n",
       "             1 0.605 0.040\n",
       "             2 0.210 0.145"
      ]
     },
     "execution_count": 78,
     "metadata": {},
     "output_type": "execute_result"
    }
   ],
   "source": [
    "require(randomForest)\n",
    "m3 <- randomForest::randomForest(credittrain[,-21], credittrain$default, ntree = 1000)\n",
    "p3 <- predict(m3, credittest)\n",
    "prop.table(table(credittest$default, p3, dnn = c('actual default', 'predicted default')))"
   ]
  },
  {
   "cell_type": "markdown",
   "metadata": {},
   "source": [
    "Interpretations:\n",
    "* Overall model accuracy improved to 74%\n",
    "* True positive rate improved to 82% of non-defaults being correctly predicted\n",
    "* True negative rate slipped to 41% of defaults beingcorrectly predicted by the model"
   ]
  }
 ],
 "metadata": {
  "kernelspec": {
   "display_name": "R",
   "language": "R",
   "name": "ir"
  },
  "language_info": {
   "codemirror_mode": "r",
   "file_extension": ".r",
   "mimetype": "text/x-r-source",
   "name": "R",
   "pygments_lexer": "r",
   "version": "3.2.2"
  }
 },
 "nbformat": 4,
 "nbformat_minor": 0
}
