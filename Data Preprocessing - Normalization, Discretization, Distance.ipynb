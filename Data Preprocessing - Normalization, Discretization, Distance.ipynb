{
 "cells": [
  {
   "cell_type": "markdown",
   "metadata": {},
   "source": [
    "## Data Preprocessing"
   ]
  },
  {
   "cell_type": "markdown",
   "metadata": {},
   "source": [
    "### Normalization"
   ]
  },
  {
   "cell_type": "markdown",
   "metadata": {},
   "source": [
    "1. Write function in R to perform following normalization techniques:"
   ]
  },
  {
   "cell_type": "code",
   "execution_count": 3,
   "metadata": {
    "collapsed": false
   },
   "outputs": [
    {
     "data": {
      "text/html": [
       "<table>\n",
       "<thead><tr><th></th><th scope=col>Murder</th><th scope=col>Assault</th><th scope=col>UrbanPop</th><th scope=col>Rape</th></tr></thead>\n",
       "<tbody>\n",
       "\t<tr><th scope=row>Alabama</th><td>13.2</td><td>236</td><td>58</td><td>21.2</td></tr>\n",
       "\t<tr><th scope=row>Alaska</th><td>10</td><td>263</td><td>48</td><td>44.5</td></tr>\n",
       "\t<tr><th scope=row>Arizona</th><td>8.1</td><td>294</td><td>80</td><td>31</td></tr>\n",
       "\t<tr><th scope=row>Arkansas</th><td>8.8</td><td>190</td><td>50</td><td>19.5</td></tr>\n",
       "\t<tr><th scope=row>California</th><td>9</td><td>276</td><td>91</td><td>40.6</td></tr>\n",
       "\t<tr><th scope=row>Colorado</th><td>7.9</td><td>204</td><td>78</td><td>38.7</td></tr>\n",
       "</tbody>\n",
       "</table>\n"
      ],
      "text/latex": [
       "\\begin{tabular}{r|llll}\n",
       "  & Murder & Assault & UrbanPop & Rape\\\\\n",
       "\\hline\n",
       "\tAlabama & 13.2 & 236 & 58 & 21.2\\\\\n",
       "\tAlaska & 10 & 263 & 48 & 44.5\\\\\n",
       "\tArizona & 8.1 & 294 & 80 & 31\\\\\n",
       "\tArkansas & 8.8 & 190 & 50 & 19.5\\\\\n",
       "\tCalifornia & 9 & 276 & 91 & 40.6\\\\\n",
       "\tColorado & 7.9 & 204 & 78 & 38.7\\\\\n",
       "\\end{tabular}\n"
      ],
      "text/plain": [
       "           Murder Assault UrbanPop Rape\n",
       "Alabama      13.2     236       58 21.2\n",
       "Alaska       10.0     263       48 44.5\n",
       "Arizona       8.1     294       80 31.0\n",
       "Arkansas      8.8     190       50 19.5\n",
       "California    9.0     276       91 40.6\n",
       "Colorado      7.9     204       78 38.7"
      ]
     },
     "execution_count": 3,
     "metadata": {},
     "output_type": "execute_result"
    }
   ],
   "source": [
    "head(USArrests)"
   ]
  },
  {
   "cell_type": "markdown",
   "metadata": {},
   "source": [
    "#### Min-Max Normalization"
   ]
  },
  {
   "cell_type": "code",
   "execution_count": 2,
   "metadata": {
    "collapsed": false
   },
   "outputs": [
    {
     "data": {
      "text/html": [
       "<table>\n",
       "<thead><tr><th></th><th scope=col>Murder</th><th scope=col>Assault</th><th scope=col>UrbanPop</th><th scope=col>Rape</th></tr></thead>\n",
       "<tbody>\n",
       "\t<tr><th scope=row>1</th><td>0.746988</td><td>0.6541096</td><td>0.440678</td><td>0.3591731</td></tr>\n",
       "\t<tr><th scope=row>2</th><td>0.5542169</td><td>0.7465753</td><td>0.2711864</td><td>0.9612403</td></tr>\n",
       "\t<tr><th scope=row>3</th><td>0.439759</td><td>0.8527397</td><td>0.8135593</td><td>0.6124031</td></tr>\n",
       "\t<tr><th scope=row>4</th><td>0.4819277</td><td>0.4965753</td><td>0.3050847</td><td>0.3152455</td></tr>\n",
       "\t<tr><th scope=row>5</th><td>0.4939759</td><td>0.7910959</td><td>1</td><td>0.8604651</td></tr>\n",
       "\t<tr><th scope=row>6</th><td>0.4277108</td><td>0.5445205</td><td>0.779661</td><td>0.8113695</td></tr>\n",
       "</tbody>\n",
       "</table>\n"
      ],
      "text/latex": [
       "\\begin{tabular}{r|llll}\n",
       "  & Murder & Assault & UrbanPop & Rape\\\\\n",
       "\\hline\n",
       "\t1 & 0.746988 & 0.6541096 & 0.440678 & 0.3591731\\\\\n",
       "\t2 & 0.5542169 & 0.7465753 & 0.2711864 & 0.9612403\\\\\n",
       "\t3 & 0.439759 & 0.8527397 & 0.8135593 & 0.6124031\\\\\n",
       "\t4 & 0.4819277 & 0.4965753 & 0.3050847 & 0.3152455\\\\\n",
       "\t5 & 0.4939759 & 0.7910959 & 1 & 0.8604651\\\\\n",
       "\t6 & 0.4277108 & 0.5445205 & 0.779661 & 0.8113695\\\\\n",
       "\\end{tabular}\n"
      ],
      "text/plain": [
       "     Murder   Assault  UrbanPop      Rape\n",
       "1 0.7469880 0.6541096 0.4406780 0.3591731\n",
       "2 0.5542169 0.7465753 0.2711864 0.9612403\n",
       "3 0.4397590 0.8527397 0.8135593 0.6124031\n",
       "4 0.4819277 0.4965753 0.3050847 0.3152455\n",
       "5 0.4939759 0.7910959 1.0000000 0.8604651\n",
       "6 0.4277108 0.5445205 0.7796610 0.8113695"
      ]
     },
     "execution_count": 2,
     "metadata": {},
     "output_type": "execute_result"
    }
   ],
   "source": [
    "normalMinMax <- function(x){return((x-min(x))/(max(x)-min(x)))}\n",
    "datanorm1 <- as.data.frame(lapply(USArrests,normalMinMax))\n",
    "head(datanorm1)"
   ]
  },
  {
   "cell_type": "markdown",
   "metadata": {},
   "source": [
    "#### Z-Score Normalization"
   ]
  },
  {
   "cell_type": "code",
   "execution_count": 5,
   "metadata": {
    "collapsed": false
   },
   "outputs": [
    {
     "data": {
      "text/html": [
       "<table>\n",
       "<thead><tr><th></th><th scope=col>Murder</th><th scope=col>Assault</th><th scope=col>UrbanPop</th><th scope=col>Rape</th></tr></thead>\n",
       "<tbody>\n",
       "\t<tr><th scope=row>1</th><td>1.242564</td><td>0.7828393</td><td>-0.5209066</td><td>-0.003416473</td></tr>\n",
       "\t<tr><th scope=row>2</th><td>0.5078625</td><td>1.106823</td><td>-1.211764</td><td>2.484203</td></tr>\n",
       "\t<tr><th scope=row>3</th><td>0.07163341</td><td>1.478803</td><td>0.9989801</td><td>1.042878</td></tr>\n",
       "\t<tr><th scope=row>4</th><td>0.2323494</td><td>0.230868</td><td>-1.073593</td><td>-0.1849166</td></tr>\n",
       "\t<tr><th scope=row>5</th><td>0.2782682</td><td>1.262814</td><td>1.758923</td><td>2.06782</td></tr>\n",
       "\t<tr><th scope=row>6</th><td>0.02571456</td><td>0.3988593</td><td>0.8608085</td><td>1.864967</td></tr>\n",
       "</tbody>\n",
       "</table>\n"
      ],
      "text/latex": [
       "\\begin{tabular}{r|llll}\n",
       "  & Murder & Assault & UrbanPop & Rape\\\\\n",
       "\\hline\n",
       "\t1 & 1.242564 & 0.7828393 & -0.5209066 & -0.003416473\\\\\n",
       "\t2 & 0.5078625 & 1.106823 & -1.211764 & 2.484203\\\\\n",
       "\t3 & 0.07163341 & 1.478803 & 0.9989801 & 1.042878\\\\\n",
       "\t4 & 0.2323494 & 0.230868 & -1.073593 & -0.1849166\\\\\n",
       "\t5 & 0.2782682 & 1.262814 & 1.758923 & 2.06782\\\\\n",
       "\t6 & 0.02571456 & 0.3988593 & 0.8608085 & 1.864967\\\\\n",
       "\\end{tabular}\n"
      ],
      "text/plain": [
       "      Murder   Assault   UrbanPop         Rape\n",
       "1 1.24256408 0.7828393 -0.5209066 -0.003416473\n",
       "2 0.50786248 1.1068225 -1.2117642  2.484202941\n",
       "3 0.07163341 1.4788032  0.9989801  1.042878388\n",
       "4 0.23234938 0.2308680 -1.0735927 -0.184916602\n",
       "5 0.27826823 1.2628144  1.7589234  2.067820292\n",
       "6 0.02571456 0.3988593  0.8608085  1.864967207"
      ]
     },
     "execution_count": 5,
     "metadata": {},
     "output_type": "execute_result"
    }
   ],
   "source": [
    "normalZscore <- function(x){return((x-mean(x))/sqrt(var(x)))}\n",
    "datanorm2 <- as.data.frame(lapply(USArrests,normalZscore))\n",
    "head(datanorm2)"
   ]
  },
  {
   "cell_type": "markdown",
   "metadata": {},
   "source": [
    "#### Sigmoidal Normalization"
   ]
  },
  {
   "cell_type": "code",
   "execution_count": 8,
   "metadata": {
    "collapsed": false
   },
   "outputs": [
    {
     "data": {
      "text/html": [
       "<table>\n",
       "<thead><tr><th></th><th scope=col>Murder</th><th scope=col>Assault</th><th scope=col>UrbanPop</th><th scope=col>Rape</th></tr></thead>\n",
       "<tbody>\n",
       "\t<tr><th scope=row>1</th><td>0.9999981</td><td>1</td><td>1</td><td>1</td></tr>\n",
       "\t<tr><th scope=row>2</th><td>0.9999546</td><td>1</td><td>1</td><td>1</td></tr>\n",
       "\t<tr><th scope=row>3</th><td>0.9996966</td><td>1</td><td>1</td><td>1</td></tr>\n",
       "\t<tr><th scope=row>4</th><td>0.9998493</td><td>1</td><td>1</td><td>1</td></tr>\n",
       "\t<tr><th scope=row>5</th><td>0.9998766</td><td>1</td><td>1</td><td>1</td></tr>\n",
       "\t<tr><th scope=row>6</th><td>0.9996294</td><td>1</td><td>1</td><td>1</td></tr>\n",
       "</tbody>\n",
       "</table>\n"
      ],
      "text/latex": [
       "\\begin{tabular}{r|llll}\n",
       "  & Murder & Assault & UrbanPop & Rape\\\\\n",
       "\\hline\n",
       "\t1 & 0.9999981 & 1 & 1 & 1\\\\\n",
       "\t2 & 0.9999546 & 1 & 1 & 1\\\\\n",
       "\t3 & 0.9996966 & 1 & 1 & 1\\\\\n",
       "\t4 & 0.9998493 & 1 & 1 & 1\\\\\n",
       "\t5 & 0.9998766 & 1 & 1 & 1\\\\\n",
       "\t6 & 0.9996294 & 1 & 1 & 1\\\\\n",
       "\\end{tabular}\n"
      ],
      "text/plain": [
       "     Murder Assault UrbanPop Rape\n",
       "1 0.9999981       1        1    1\n",
       "2 0.9999546       1        1    1\n",
       "3 0.9996966       1        1    1\n",
       "4 0.9998493       1        1    1\n",
       "5 0.9998766       1        1    1\n",
       "6 0.9996294       1        1    1"
      ]
     },
     "execution_count": 8,
     "metadata": {},
     "output_type": "execute_result"
    },
    {
     "data": {
      "text/html": [
       "<table>\n",
       "<thead><tr><th></th><th scope=col>Murder</th><th scope=col>Assault</th><th scope=col>UrbanPop</th><th scope=col>Rape</th></tr></thead>\n",
       "<tbody>\n",
       "\t<tr><th scope=row>45</th><td>0.9002495</td><td>1</td><td>1</td><td>0.9999863</td></tr>\n",
       "\t<tr><th scope=row>46</th><td>0.9997966</td><td>1</td><td>1</td><td>1</td></tr>\n",
       "\t<tr><th scope=row>47</th><td>0.9820138</td><td>1</td><td>1</td><td>1</td></tr>\n",
       "\t<tr><th scope=row>48</th><td>0.9966652</td><td>1</td><td>1</td><td>0.9999086</td></tr>\n",
       "\t<tr><th scope=row>49</th><td>0.9308616</td><td>1</td><td>1</td><td>0.9999796</td></tr>\n",
       "\t<tr><th scope=row>50</th><td>0.9988875</td><td>1</td><td>1</td><td>0.9999998</td></tr>\n",
       "</tbody>\n",
       "</table>\n"
      ],
      "text/latex": [
       "\\begin{tabular}{r|llll}\n",
       "  & Murder & Assault & UrbanPop & Rape\\\\\n",
       "\\hline\n",
       "\t45 & 0.9002495 & 1 & 1 & 0.9999863\\\\\n",
       "\t46 & 0.9997966 & 1 & 1 & 1\\\\\n",
       "\t47 & 0.9820138 & 1 & 1 & 1\\\\\n",
       "\t48 & 0.9966652 & 1 & 1 & 0.9999086\\\\\n",
       "\t49 & 0.9308616 & 1 & 1 & 0.9999796\\\\\n",
       "\t50 & 0.9988875 & 1 & 1 & 0.9999998\\\\\n",
       "\\end{tabular}\n"
      ],
      "text/plain": [
       "      Murder Assault UrbanPop      Rape\n",
       "45 0.9002495       1        1 0.9999863\n",
       "46 0.9997966       1        1 1.0000000\n",
       "47 0.9820138       1        1 1.0000000\n",
       "48 0.9966652       1        1 0.9999086\n",
       "49 0.9308616       1        1 0.9999796\n",
       "50 0.9988875       1        1 0.9999998"
      ]
     },
     "execution_count": 8,
     "metadata": {},
     "output_type": "execute_result"
    }
   ],
   "source": [
    "normalSigmoid <- function(x){return(1/(1+exp(-x)))}\n",
    "datanorm3 <- as.data.frame(lapply(USArrests,normalSigmoid))\n",
    "head(datanorm3)\n",
    "tail(datanorm3)"
   ]
  },
  {
   "cell_type": "markdown",
   "metadata": {},
   "source": [
    "### Discretization"
   ]
  },
  {
   "cell_type": "markdown",
   "metadata": {},
   "source": [
    "2.\tUse the dataset \"USArrests\" and discretize it by a) equal frequency, b) equal width, c) global equal width"
   ]
  },
  {
   "cell_type": "code",
   "execution_count": 19,
   "metadata": {
    "collapsed": false
   },
   "outputs": [],
   "source": [
    "library(infotheo)\n",
    "# attach(USArrests)"
   ]
  },
  {
   "cell_type": "markdown",
   "metadata": {},
   "source": [
    "#### Equal frequency"
   ]
  },
  {
   "cell_type": "code",
   "execution_count": 21,
   "metadata": {
    "collapsed": false
   },
   "outputs": [
    {
     "data": {
      "text/plain": [
       "MurderBin\n",
       " 1  2  3 \n",
       "17 16 17 "
      ]
     },
     "execution_count": 21,
     "metadata": {},
     "output_type": "execute_result"
    }
   ],
   "source": [
    "MurderBin <- discretize(Murder, disc = \"equalfreq\") \n",
    "table(MurderBin)"
   ]
  },
  {
   "cell_type": "markdown",
   "metadata": {},
   "source": [
    "#### Equal width"
   ]
  },
  {
   "cell_type": "code",
   "execution_count": 23,
   "metadata": {
    "collapsed": false
   },
   "outputs": [
    {
     "data": {
      "text/plain": [
       "AssaultBin\n",
       " 1  2  3 \n",
       "20 16 14 "
      ]
     },
     "execution_count": 23,
     "metadata": {},
     "output_type": "execute_result"
    }
   ],
   "source": [
    "AssaultBin <- discretize(Assault, disc = \"equalwidth\")\n",
    "table(AssaultBin)"
   ]
  },
  {
   "cell_type": "markdown",
   "metadata": {},
   "source": [
    "#### Global equal width"
   ]
  },
  {
   "cell_type": "code",
   "execution_count": 24,
   "metadata": {
    "collapsed": false
   },
   "outputs": [
    {
     "data": {
      "text/plain": [
       "UrbanPopBin\n",
       " 1  2  3 \n",
       "10 21 19 "
      ]
     },
     "execution_count": 24,
     "metadata": {},
     "output_type": "execute_result"
    }
   ],
   "source": [
    "UrbanPopBin <- discretize(UrbanPop, disc = \"globalequalwidth\")\n",
    "table(UrbanPopBin)"
   ]
  },
  {
   "cell_type": "markdown",
   "metadata": {},
   "source": [
    "### Distance (Similarity-Dissimilarity)"
   ]
  },
  {
   "cell_type": "markdown",
   "metadata": {},
   "source": [
    "3. Using the built-in dataset \"mtcars\", compute the distance "
   ]
  },
  {
   "cell_type": "code",
   "execution_count": 26,
   "metadata": {
    "collapsed": false
   },
   "outputs": [
    {
     "data": {
      "text/html": [
       "<table>\n",
       "<thead><tr><th></th><th scope=col>mpg</th><th scope=col>cyl</th><th scope=col>disp</th><th scope=col>hp</th><th scope=col>drat</th><th scope=col>wt</th><th scope=col>qsec</th><th scope=col>vs</th><th scope=col>am</th><th scope=col>gear</th><th scope=col>carb</th></tr></thead>\n",
       "<tbody>\n",
       "\t<tr><th scope=row>Mazda RX4</th><td>21</td><td>6</td><td>160</td><td>110</td><td>3.9</td><td>2.62</td><td>16.46</td><td>0</td><td>1</td><td>4</td><td>4</td></tr>\n",
       "\t<tr><th scope=row>Mazda RX4 Wag</th><td>21</td><td>6</td><td>160</td><td>110</td><td>3.9</td><td>2.875</td><td>17.02</td><td>0</td><td>1</td><td>4</td><td>4</td></tr>\n",
       "\t<tr><th scope=row>Datsun 710</th><td>22.8</td><td>4</td><td>108</td><td>93</td><td>3.85</td><td>2.32</td><td>18.61</td><td>1</td><td>1</td><td>4</td><td>1</td></tr>\n",
       "\t<tr><th scope=row>Hornet 4 Drive</th><td>21.4</td><td>6</td><td>258</td><td>110</td><td>3.08</td><td>3.215</td><td>19.44</td><td>1</td><td>0</td><td>3</td><td>1</td></tr>\n",
       "\t<tr><th scope=row>Hornet Sportabout</th><td>18.7</td><td>8</td><td>360</td><td>175</td><td>3.15</td><td>3.44</td><td>17.02</td><td>0</td><td>0</td><td>3</td><td>2</td></tr>\n",
       "\t<tr><th scope=row>Valiant</th><td>18.1</td><td>6</td><td>225</td><td>105</td><td>2.76</td><td>3.46</td><td>20.22</td><td>1</td><td>0</td><td>3</td><td>1</td></tr>\n",
       "</tbody>\n",
       "</table>\n"
      ],
      "text/latex": [
       "\\begin{tabular}{r|lllllllllll}\n",
       "  & mpg & cyl & disp & hp & drat & wt & qsec & vs & am & gear & carb\\\\\n",
       "\\hline\n",
       "\tMazda RX4 & 21 & 6 & 160 & 110 & 3.9 & 2.62 & 16.46 & 0 & 1 & 4 & 4\\\\\n",
       "\tMazda RX4 Wag & 21 & 6 & 160 & 110 & 3.9 & 2.875 & 17.02 & 0 & 1 & 4 & 4\\\\\n",
       "\tDatsun 710 & 22.8 & 4 & 108 & 93 & 3.85 & 2.32 & 18.61 & 1 & 1 & 4 & 1\\\\\n",
       "\tHornet 4 Drive & 21.4 & 6 & 258 & 110 & 3.08 & 3.215 & 19.44 & 1 & 0 & 3 & 1\\\\\n",
       "\tHornet Sportabout & 18.7 & 8 & 360 & 175 & 3.15 & 3.44 & 17.02 & 0 & 0 & 3 & 2\\\\\n",
       "\tValiant & 18.1 & 6 & 225 & 105 & 2.76 & 3.46 & 20.22 & 1 & 0 & 3 & 1\\\\\n",
       "\\end{tabular}\n"
      ],
      "text/plain": [
       "                   mpg cyl disp  hp drat    wt  qsec vs am gear carb\n",
       "Mazda RX4         21.0   6  160 110 3.90 2.620 16.46  0  1    4    4\n",
       "Mazda RX4 Wag     21.0   6  160 110 3.90 2.875 17.02  0  1    4    4\n",
       "Datsun 710        22.8   4  108  93 3.85 2.320 18.61  1  1    4    1\n",
       "Hornet 4 Drive    21.4   6  258 110 3.08 3.215 19.44  1  0    3    1\n",
       "Hornet Sportabout 18.7   8  360 175 3.15 3.440 17.02  0  0    3    2\n",
       "Valiant           18.1   6  225 105 2.76 3.460 20.22  1  0    3    1"
      ]
     },
     "execution_count": 26,
     "metadata": {},
     "output_type": "execute_result"
    }
   ],
   "source": [
    "head(mtcars)\n",
    "names <- rownames(mtcars)"
   ]
  },
  {
   "cell_type": "code",
   "execution_count": 27,
   "metadata": {
    "collapsed": false
   },
   "outputs": [
    {
     "data": {
      "text/html": [
       "<table>\n",
       "<thead><tr><th></th><th scope=col>mpg</th><th scope=col>cyl</th><th scope=col>disp</th><th scope=col>hp</th><th scope=col>drat</th><th scope=col>wt</th><th scope=col>qsec</th><th scope=col>vs</th><th scope=col>am</th><th scope=col>gear</th><th scope=col>carb</th></tr></thead>\n",
       "<tbody>\n",
       "\t<tr><th scope=row>Mazda RX4</th><td>0.1508848</td><td>-0.1049878</td><td>-0.5706198</td><td>-0.5350928</td><td>0.5675137</td><td>-0.6103996</td><td>-0.7771651</td><td>-0.8680278</td><td>1.189901</td><td>0.4235542</td><td>0.7352031</td></tr>\n",
       "\t<tr><th scope=row>Mazda RX4 Wag</th><td>0.1508848</td><td>-0.1049878</td><td>-0.5706198</td><td>-0.5350928</td><td>0.5675137</td><td>-0.3497853</td><td>-0.4637808</td><td>-0.8680278</td><td>1.189901</td><td>0.4235542</td><td>0.7352031</td></tr>\n",
       "\t<tr><th scope=row>Datsun 710</th><td>0.4495434</td><td>-1.224858</td><td>-0.9901821</td><td>-0.7830405</td><td>0.4739996</td><td>-0.9170046</td><td>0.4260068</td><td>1.116036</td><td>1.189901</td><td>0.4235542</td><td>-1.122152</td></tr>\n",
       "\t<tr><th scope=row>Hornet 4 Drive</th><td>0.2172534</td><td>-0.1049878</td><td>0.2200937</td><td>-0.5350928</td><td>-0.9661175</td><td>-0.002299538</td><td>0.8904872</td><td>1.116036</td><td>-0.8141431</td><td>-0.9318192</td><td>-1.122152</td></tr>\n",
       "\t<tr><th scope=row>Hornet Sportabout</th><td>-0.2307345</td><td>1.014882</td><td>1.043081</td><td>0.4129422</td><td>-0.8351978</td><td>0.2276543</td><td>-0.4637808</td><td>-0.8680278</td><td>-0.8141431</td><td>-0.9318192</td><td>-0.5030337</td></tr>\n",
       "\t<tr><th scope=row>Valiant</th><td>-0.3302874</td><td>-0.1049878</td><td>-0.04616698</td><td>-0.6080186</td><td>-1.564608</td><td>0.2480946</td><td>1.326987</td><td>1.116036</td><td>-0.8141431</td><td>-0.9318192</td><td>-1.122152</td></tr>\n",
       "</tbody>\n",
       "</table>\n"
      ],
      "text/latex": [
       "\\begin{tabular}{r|lllllllllll}\n",
       "  & mpg & cyl & disp & hp & drat & wt & qsec & vs & am & gear & carb\\\\\n",
       "\\hline\n",
       "\tMazda RX4 & 0.1508848 & -0.1049878 & -0.5706198 & -0.5350928 & 0.5675137 & -0.6103996 & -0.7771651 & -0.8680278 & 1.189901 & 0.4235542 & 0.7352031\\\\\n",
       "\tMazda RX4 Wag & 0.1508848 & -0.1049878 & -0.5706198 & -0.5350928 & 0.5675137 & -0.3497853 & -0.4637808 & -0.8680278 & 1.189901 & 0.4235542 & 0.7352031\\\\\n",
       "\tDatsun 710 & 0.4495434 & -1.224858 & -0.9901821 & -0.7830405 & 0.4739996 & -0.9170046 & 0.4260068 & 1.116036 & 1.189901 & 0.4235542 & -1.122152\\\\\n",
       "\tHornet 4 Drive & 0.2172534 & -0.1049878 & 0.2200937 & -0.5350928 & -0.9661175 & -0.002299538 & 0.8904872 & 1.116036 & -0.8141431 & -0.9318192 & -1.122152\\\\\n",
       "\tHornet Sportabout & -0.2307345 & 1.014882 & 1.043081 & 0.4129422 & -0.8351978 & 0.2276543 & -0.4637808 & -0.8680278 & -0.8141431 & -0.9318192 & -0.5030337\\\\\n",
       "\tValiant & -0.3302874 & -0.1049878 & -0.04616698 & -0.6080186 & -1.564608 & 0.2480946 & 1.326987 & 1.116036 & -0.8141431 & -0.9318192 & -1.122152\\\\\n",
       "\\end{tabular}\n"
      ],
      "text/plain": [
       "                         mpg        cyl        disp         hp       drat\n",
       "Mazda RX4          0.1508848 -0.1049878 -0.57061982 -0.5350928  0.5675137\n",
       "Mazda RX4 Wag      0.1508848 -0.1049878 -0.57061982 -0.5350928  0.5675137\n",
       "Datsun 710         0.4495434 -1.2248578 -0.99018209 -0.7830405  0.4739996\n",
       "Hornet 4 Drive     0.2172534 -0.1049878  0.22009369 -0.5350928 -0.9661175\n",
       "Hornet Sportabout -0.2307345  1.0148821  1.04308123  0.4129422 -0.8351978\n",
       "Valiant           -0.3302874 -0.1049878 -0.04616698 -0.6080186 -1.5646078\n",
       "                            wt       qsec         vs         am       gear\n",
       "Mazda RX4         -0.610399567 -0.7771651 -0.8680278  1.1899014  0.4235542\n",
       "Mazda RX4 Wag     -0.349785269 -0.4637808 -0.8680278  1.1899014  0.4235542\n",
       "Datsun 710        -0.917004624  0.4260068  1.1160357  1.1899014  0.4235542\n",
       "Hornet 4 Drive    -0.002299538  0.8904872  1.1160357 -0.8141431 -0.9318192\n",
       "Hornet Sportabout  0.227654255 -0.4637808 -0.8680278 -0.8141431 -0.9318192\n",
       "Valiant            0.248094592  1.3269868  1.1160357 -0.8141431 -0.9318192\n",
       "                        carb\n",
       "Mazda RX4          0.7352031\n",
       "Mazda RX4 Wag      0.7352031\n",
       "Datsun 710        -1.1221521\n",
       "Hornet 4 Drive    -1.1221521\n",
       "Hornet Sportabout -0.5030337\n",
       "Valiant           -1.1221521"
      ]
     },
     "execution_count": 27,
     "metadata": {},
     "output_type": "execute_result"
    }
   ],
   "source": [
    "mtcarsnorm <- as.data.frame(lapply(mtcars, normalZscore))\n",
    "rownames(mtcarsnorm) <- names\n",
    "head(mtcarsnorm)"
   ]
  },
  {
   "cell_type": "markdown",
   "metadata": {},
   "source": [
    "a. Compute the distance between \"Honda Civic\" and \"Camaro Z28\""
   ]
  },
  {
   "cell_type": "code",
   "execution_count": 28,
   "metadata": {
    "collapsed": false
   },
   "outputs": [
    {
     "data": {
      "text/plain": [
       "           Honda Civic\n",
       "Camaro Z28    7.102716"
      ]
     },
     "execution_count": 28,
     "metadata": {},
     "output_type": "execute_result"
    }
   ],
   "source": [
    "hondaciv <- mtcarsnorm[\"Honda Civic\",]\n",
    "camz28 <- mtcarsnorm[\"Camaro Z28\",]\n",
    "dist(rbind(hondaciv,camz28), method = \"euclidean\")"
   ]
  },
  {
   "cell_type": "markdown",
   "metadata": {},
   "source": [
    "b. Compute the distance between \"Camaro Z28\" and \"Pontaic Firebird\""
   ]
  },
  {
   "cell_type": "code",
   "execution_count": 29,
   "metadata": {
    "collapsed": false
   },
   "outputs": [
    {
     "data": {
      "text/plain": [
       "                 Camaro Z28\n",
       "Pontiac Firebird   2.452931"
      ]
     },
     "execution_count": 29,
     "metadata": {},
     "output_type": "execute_result"
    }
   ],
   "source": [
    "camz28 <- mtcarsnorm[\"Camaro Z28\",]\n",
    "pontfire <- mtcarsnorm[\"Pontiac Firebird\",]\n",
    "dist(rbind(camz28,pontfire), method = \"euclidean\")"
   ]
  },
  {
   "cell_type": "markdown",
   "metadata": {},
   "source": [
    "c. Among the distances calculated which cars are similar?"
   ]
  },
  {
   "cell_type": "markdown",
   "metadata": {},
   "source": [
    "Camaro Z28 and Honda Civic are similar as dist between them is lower"
   ]
  },
  {
   "cell_type": "markdown",
   "metadata": {},
   "source": [
    "d. Compute the distance matrix for the entire dataset"
   ]
  },
  {
   "cell_type": "code",
   "execution_count": 31,
   "metadata": {
    "collapsed": false
   },
   "outputs": [],
   "source": [
    "distmatrix <- dist(mtcarsnorm, method = \"euclidean\")"
   ]
  },
  {
   "cell_type": "markdown",
   "metadata": {},
   "source": [
    "e. Find the distance matrix for other types of distances, such as maximum, Manhattan, Canberra, binary and Minkowski"
   ]
  },
  {
   "cell_type": "code",
   "execution_count": 33,
   "metadata": {
    "collapsed": false
   },
   "outputs": [],
   "source": [
    "maxdist <- dist(mtcarsnorm, method = \"maximum\")\n",
    "manhdist <- dist(mtcarsnorm, method = \"manhattan\")\n",
    "canbdist <- dist(mtcarsnorm, method = \"canberra\")\n",
    "bindist <- dist(mtcarsnorm, method = \"binary\")\n",
    "minkodist <- dist(mtcarsnorm, method = \"minkowski\")"
   ]
  },
  {
   "cell_type": "markdown",
   "metadata": {},
   "source": [
    "f. Find the correlation matrix and covariant matrix for the dataset mtcars."
   ]
  },
  {
   "cell_type": "code",
   "execution_count": 35,
   "metadata": {
    "collapsed": false
   },
   "outputs": [],
   "source": [
    "cor <- cor(mtcarsnorm, method = \"pearson\")\n",
    "cpv <- cov(mtcarsnorm, method = \"pearson\")"
   ]
  }
 ],
 "metadata": {
  "kernelspec": {
   "display_name": "R",
   "language": "R",
   "name": "ir"
  },
  "language_info": {
   "codemirror_mode": "r",
   "file_extension": ".r",
   "mimetype": "text/x-r-source",
   "name": "R",
   "pygments_lexer": "r",
   "version": "3.2.2"
  }
 },
 "nbformat": 4,
 "nbformat_minor": 0
}
